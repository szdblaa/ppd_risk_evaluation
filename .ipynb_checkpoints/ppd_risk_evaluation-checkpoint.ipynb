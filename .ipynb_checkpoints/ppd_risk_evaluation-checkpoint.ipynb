{
 "cells": [
  {
   "cell_type": "code",
   "execution_count": 110,
   "metadata": {},
   "outputs": [],
   "source": [
    "import numpy as np\n",
    "import pandas as pd\n",
    "# from sklearn.preprocessing import OneHotEncoder,LabelEncoder\n",
    "from sklearn.ensemble import GradientBoostingClassifier,IsolationForest\n",
    "from sklearn.model_selection import train_test_split\n",
    "# from sklearn.linear_model import LogisticRegression\n",
    "from sklearn.metrics import roc_curve,  roc_auc_score,precision_score,recall_score\n",
    "# from scipy.sparse import hstack\n",
    "import seaborn as sns\n",
    "# from collections import Counter\n",
    "# from imblearn.over_sampling import SMOTE\n",
    "import matplotlib.pyplot as plt\n",
    "# import matplotlib.dates as mdates\n",
    "import time\n",
    "import gc\n",
    "import xgboost as xgb\n",
    "from xgboost import plot_importance\n",
    "pd.set_option('max_columns',1000)\n",
    "pd.set_option('max_row',300)\n",
    "sns.set(font='SimHei')  # 解决Seaborn中文显示问题\n",
    "import warnings\n",
    "warnings.filterwarnings(\"ignore\")\n",
    "import tools.explore as explore\n",
    "import tools.missing_data as ms\n",
    "import tools.outlier as ot\n",
    "import pickle\n",
    "from IPython.core.interactiveshell import InteractiveShell\n",
    "InteractiveShell.ast_node_interactivity = \"all\"\n",
    "\n"
   ]
  },
  {
   "cell_type": "code",
   "execution_count": 111,
   "metadata": {},
   "outputs": [],
   "source": [
    "def Del_string(xstr):\n",
    "    xstrc = xstr.strip().strip(\"市\").strip(\"省\")\n",
    "    if(xstrc == \"\"):\n",
    "        xstrc = np.nan\n",
    "    return(xstrc)"
   ]
  },
  {
   "cell_type": "code",
   "execution_count": 112,
   "metadata": {},
   "outputs": [],
   "source": [
    "par_csv = dict(index_col = 0, encoding = \"GB18030\", parse_dates = [\"ListingInfo\"], na_values = [-1], \n",
    "               converters = dict(zip(*[[\"UserInfo_{}\".format(i) for i in [9, 2, 4, 8, 20, 7, 19]], [Del_string]*7])))\n",
    "\n",
    "df=pd.read_csv('./Training Set/PPD_Training_Master_GBK_3_1_Training_Set.csv',**par_csv)\n",
    "# df_test=pd.read_csv('./Test Set/PPD_Master_GBK_2_Test_Set.csv',**par_csv)\n"
   ]
  },
  {
   "cell_type": "code",
   "execution_count": 4,
   "metadata": {},
   "outputs": [
    {
     "data": {
      "text/plain": [
       "(30000, 227)"
      ]
     },
     "execution_count": 4,
     "metadata": {},
     "output_type": "execute_result"
    }
   ],
   "source": [
    "df.shape"
   ]
  },
  {
   "cell_type": "code",
   "execution_count": 113,
   "metadata": {},
   "outputs": [
    {
     "name": "stdout",
     "output_type": "stream",
     "text": [
      "WeblogInfo_10标准差： 0.0\n",
      "WeblogInfo_23标准差： 0.08747391234437821\n",
      "WeblogInfo_31标准差： 0.08375465689794662\n",
      "WeblogInfo_32标准差： 0.07908268872845749\n",
      "WeblogInfo_40标准差： 0.07049648343800485\n",
      "WeblogInfo_41标准差： 0.020080818970862818\n",
      "WeblogInfo_43标准差： 0.0393032132530723\n",
      "WeblogInfo_44标准差： 0.015338268242815535\n",
      "WeblogInfo_46标准差： 0.028979700901037787\n",
      "WeblogInfo_47标准差： 0.04217794354303182\n",
      "WeblogInfo_49标准差： 0.0\n",
      "WeblogInfo_52标准差： 0.05192917184867923\n",
      "WeblogInfo_55标准差： 0.03650607255421587\n",
      "WeblogInfo_58标准差： 0.06345391153339283\n",
      "SocialNetwork_1标准差： 0.0369478761981756\n",
      "SocialNetwork_11缺失率： 0.9996\n",
      "SocialNetwork_12标准差： 0.0983541762614148\n",
      "time cost： 0.23230886459350586 s\n"
     ]
    },
    {
     "data": {
      "text/plain": [
       "580"
      ]
     },
     "execution_count": 113,
     "metadata": {},
     "output_type": "execute_result"
    }
   ],
   "source": [
    "# 对数值型变量，计算单变量的标准差，删除小于0.1的特征\n",
    "# df.drop(list((df[num_var_list].std())[df[num_var_list].std()<0.1].index.values),axis=1) 取而代之\n",
    "time_start=time.time()\n",
    "l=[]\n",
    "for i in df.select_dtypes(['int64','float64']).columns[1:]:\n",
    "    if np.std(df[i])<0.1:\n",
    "        print('%s标准差：' %i,np.std(df[i]))\n",
    "        l.append(i)\n",
    "    if df[i].isnull().mean()>0.99:\n",
    "        print('%s缺失率：' %i,df[i].isnull().mean())\n",
    "        l.append(i)\n",
    "df=df.drop(list(set(l)),axis=1)\n",
    "time_end=time.time()\n",
    "print('time cost：',time_end-time_start,'s')\n",
    "del l\n",
    "gc.collect()"
   ]
  },
  {
   "cell_type": "code",
   "execution_count": 6,
   "metadata": {},
   "outputs": [
    {
     "data": {
      "text/plain": [
       "(30000, 210)"
      ]
     },
     "execution_count": 6,
     "metadata": {},
     "output_type": "execute_result"
    }
   ],
   "source": [
    "df.shape"
   ]
  },
  {
   "cell_type": "code",
   "execution_count": 114,
   "metadata": {},
   "outputs": [],
   "source": [
    "# 地址特征转换\n",
    "for i in [2, 4, 8, 20, 7, 19]:\n",
    "    df.loc[:,'UserInfo_{}'.format(i)]=df.loc[:,'UserInfo_{}'.format(i)].str.replace('新疆维吾尔自治区','新疆维吾尔')\n",
    "# 针对地址特征构建一些是否相等(0/1)的新特征\n",
    "for i in [2,4,8,20]:\n",
    "    for j in [2,4,8,20]:\n",
    "        if j>i:\n",
    "            t=(df.loc[:,'UserInfo_{}'.format(i)]==df.loc[:,'UserInfo_{}'.format(j)])+0\n",
    "            t.name='UserInfo_{}_{}'.format(i,j)\n",
    "            df=pd.concat([df,t],axis=1)\n",
    "for i in [7,19]:\n",
    "    for j in [7,19]:\n",
    "        if j>i:\n",
    "            t=(df.loc[:,'UserInfo_{}'.format(i)]==df.loc[:,'UserInfo_{}'.format(j)])+0\n",
    "            t.name='UserInfo_{}_{}'.format(i,j)\n",
    "            df=pd.concat([df,t],axis=1)"
   ]
  },
  {
   "cell_type": "code",
   "execution_count": 8,
   "metadata": {},
   "outputs": [
    {
     "data": {
      "text/plain": [
       "(30000, 217)"
      ]
     },
     "execution_count": 8,
     "metadata": {},
     "output_type": "execute_result"
    }
   ],
   "source": [
    "df.shape"
   ]
  },
  {
   "cell_type": "code",
   "execution_count": 115,
   "metadata": {},
   "outputs": [],
   "source": [
    "str_var_list, num_var_list, all_var_list=explore.get_dtypes(df)"
   ]
  },
  {
   "cell_type": "code",
   "execution_count": 116,
   "metadata": {},
   "outputs": [
    {
     "data": {
      "text/plain": [
       "0"
      ]
     },
     "execution_count": 116,
     "metadata": {},
     "output_type": "execute_result"
    }
   ],
   "source": [
    "# 针对不同缺失数的特征分别进行相关性检验,并删除相关系数大于0.99的其中一个特征\n",
    "msd=ms.check_missing(data=df[num_var_list]).sort_values(by='total missing')\n",
    "cutd=(pd.cut(msd.proportion,3))\n",
    "l=[]\n",
    "for i in cutd.values.unique():\n",
    "    df=df.drop(df.loc[:,list(cutd[cutd==i].index)].columns[np.any(np.abs(np.tril(df.loc[:,list(cutd[cutd==i].index)].corr(),-1))>0.99, axis = 0)],axis=1)\n",
    "del l\n",
    "gc.collect()\n"
   ]
  },
  {
   "cell_type": "code",
   "execution_count": 134,
   "metadata": {},
   "outputs": [
    {
     "data": {
      "text/plain": [
       "(30000, 215)"
      ]
     },
     "execution_count": 134,
     "metadata": {},
     "output_type": "execute_result"
    }
   ],
   "source": [
    "df.shape"
   ]
  },
  {
   "cell_type": "code",
   "execution_count": 12,
   "metadata": {},
   "outputs": [],
   "source": [
    "# # 离群点 \n",
    "# for i in list(df_t.columns)[:-1]:\n",
    "#     p=np.percentile(df_t[i].fillna(0), 99.99999)\n",
    "#     df.drop(df[df[i] > p].index, inplace=True)"
   ]
  },
  {
   "cell_type": "code",
   "execution_count": 16,
   "metadata": {},
   "outputs": [],
   "source": [
    "# 随机数设置，确保模型效果可复现\n",
    "import os \n",
    "import random\n",
    "def seed_everything(seed=15):\n",
    "    random.seed(seed)\n",
    "    os.environ['PYTHONHASHSEED']=str(seed)\n",
    "    np.random.seed(seed)"
   ]
  },
  {
   "cell_type": "code",
   "execution_count": 14,
   "metadata": {
    "scrolled": true
   },
   "outputs": [
    {
     "data": {
      "text/plain": [
       "XGBClassifier(base_score=0.5, booster=None, colsample_bylevel=1,\n",
       "              colsample_bynode=1, colsample_bytree=1, gamma=0, gpu_id=-1,\n",
       "              importance_type='gain', interaction_constraints=None,\n",
       "              learn_rate=0.01, learning_rate=0.300000012, max_delta_step=0,\n",
       "              max_depth=5, min_child_weight=1, missing=nan,\n",
       "              monotone_constraints=None, n_estimators=300, n_jobs=0,\n",
       "              num_parallel_tree=1, objective='binary:logistic', random_state=0,\n",
       "              reg_alpha=0, reg_lambda=1, scale_pos_weight=1, subsample=1,\n",
       "              tree_method=None, validate_parameters=False, verbosity=None)"
      ]
     },
     "execution_count": 14,
     "metadata": {},
     "output_type": "execute_result"
    },
    {
     "data": {
      "text/plain": [
       "<matplotlib.axes._subplots.AxesSubplot at 0x10e701d90>"
      ]
     },
     "execution_count": 14,
     "metadata": {},
     "output_type": "execute_result"
    },
    {
     "data": {
      "image/png": "[encoded data removed]",
      "text/plain": [
       "<Figure size 432x288 with 1 Axes>"
      ]
     },
     "metadata": {
      "needs_background": "light"
     },
     "output_type": "display_data"
    },
    {
     "ename": "NameError",
     "evalue": "name 'pickle' is not defined",
     "output_type": "error",
     "traceback": [
      "\u001b[0;31m---------------------------------------------------------------------------\u001b[0m",
      "\u001b[0;31mNameError\u001b[0m                                 Traceback (most recent call last)",
      "\u001b[0;32m<ipython-input-14-e88b5ef4e662>\u001b[0m in \u001b[0;36m<module>\u001b[0;34m\u001b[0m\n\u001b[1;32m     16\u001b[0m \u001b[0mplt\u001b[0m\u001b[0;34m.\u001b[0m\u001b[0mshow\u001b[0m\u001b[0;34m(\u001b[0m\u001b[0;34m)\u001b[0m\u001b[0;34m\u001b[0m\u001b[0;34m\u001b[0m\u001b[0m\n\u001b[1;32m     17\u001b[0m \u001b[0;31m# 找出异常点，若一个样本在前20重要的特征中缺失了50%以上，则认为该样本是异常点，予以剔除\u001b[0m\u001b[0;34m\u001b[0m\u001b[0;34m\u001b[0m\u001b[0;34m\u001b[0m\u001b[0m\n\u001b[0;32m---> 18\u001b[0;31m \u001b[0mpickle\u001b[0m\u001b[0;34m.\u001b[0m\u001b[0mdump\u001b[0m\u001b[0;34m(\u001b[0m\u001b[0mmodel_xgb_importance\u001b[0m\u001b[0;34m,\u001b[0m \u001b[0mopen\u001b[0m\u001b[0;34m(\u001b[0m\u001b[0;34m\"./output/model_xgb_importance.dat\"\u001b[0m\u001b[0;34m,\u001b[0m \u001b[0;34m\"wb\"\u001b[0m\u001b[0;34m)\u001b[0m\u001b[0;34m)\u001b[0m\u001b[0;34m\u001b[0m\u001b[0;34m\u001b[0m\u001b[0m\n\u001b[0m\u001b[1;32m     19\u001b[0m \u001b[0;34m\u001b[0m\u001b[0m\n\u001b[1;32m     20\u001b[0m \u001b[0;34m\u001b[0m\u001b[0m\n",
      "\u001b[0;31mNameError\u001b[0m: name 'pickle' is not defined"
     ]
    }
   ],
   "source": [
    "# 用xgboost模型找出最重要的前20个特征 \n",
    "\n",
    "#X=df.drop(['target','Idx','ListingInfo','UserInfo_4','UserInfo_8','UserInfo_20','UserInfo_26','UserInfo_19','UserInfo_25'],axis=1)\n",
    "num_var_list2=num_var_list[:]\n",
    "num_var_list2.remove('target')\n",
    "X=df.loc[:,num_var_list2]\n",
    "# X=df.drop(['target','ListingInfo'],axis=1)\n",
    "y=df['target']\n",
    "seed_everything()\n",
    "model_xgb_importance = xgb.XGBClassifier(max_depth=5, n_estimators=300, learn_rate=0.01)\n",
    "model_xgb_importance.fit(X, y) \n",
    "\n",
    "plot_importance(model_xgb_importance,max_num_features=20,height=0.6,importance_type='weight')\n",
    "# 具体表示出来\n",
    "# sorted( model.get_booster().get_score().items(), key=lambda x:x[1],reverse=True)\n",
    "plt.show()\n",
    "# 找出异常点，若一个样本在前20重要的特征中缺失了50%以上，则认为该样本是异常点，予以剔除\n",
    "pickle.dump(model_xgb_importance, open(\"./output/model_xgb_importance.dat\", \"wb\"))\n",
    "\n",
    "\n"
   ]
  },
  {
   "cell_type": "code",
   "execution_count": null,
   "metadata": {},
   "outputs": [],
   "source": []
  },
  {
   "cell_type": "code",
   "execution_count": 18,
   "metadata": {},
   "outputs": [
    {
     "name": "stdout",
     "output_type": "stream",
     "text": [
      "30000 lines before drop\n",
      "29690 lines after drop\n"
     ]
    }
   ],
   "source": [
    "# 找出异常点，若一个样本在前20重要的特征中缺失了50%以上，则认为该样本是异常点，予以剔除\n",
    "# l存放前20重要的特征\n",
    "l=[]\n",
    "for i in sorted( model_xgb_importance.get_booster().get_score().items(), key=lambda x:x[1],reverse=True)[0:20]:\n",
    "    l.append(i[0])\n",
    "# (df[l].isna().sum(axis=1))[df[l].isna().sum(axis=1)>10]\n",
    "print('{} lines before drop'.format(df.shape[0]))\n",
    "df.drop((df[l].isna().sum(axis=1))[df[l].isna().sum(axis=1)>10].index,inplace=True)\n",
    "print('{} lines after drop'.format(df.shape[0]))"
   ]
  },
  {
   "cell_type": "code",
   "execution_count": 19,
   "metadata": {},
   "outputs": [],
   "source": [
    "df.to_hdf(\"./output/PPD_df.h5\", key = \"dah\", complib = \"zlib\", complevel = 1, mode = \"w\")"
   ]
  },
  {
   "cell_type": "code",
   "execution_count": 144,
   "metadata": {},
   "outputs": [],
   "source": [
    "def Read_History(file, icid, ictime, par_csv = {}):\n",
    "    '''Organize Time-Dependent Historical Records\n",
    "    \n",
    "    Parameters\n",
    "    ----------\n",
    "    file: a list of file name\n",
    "    icid: column name of id\n",
    "    ictime: a list of 2 column names: [basetime, recordtime]\n",
    "    par_csv: other parameters for pd.read_csv\n",
    "    '''\n",
    "    par = {\"parse_dates\": ictime}\n",
    "    par.update(par_csv)\n",
    "    dah = pd.read_csv(file, **par)\n",
    "    dahb = (dah.assign(Id = dah[icid], Time = (dah[ictime[1]] - dah[ictime[0]]).astype('timedelta64[D]')).set_index([\"Id\", \"Time\"])\n",
    "            .drop([icid]+ictime, axis = 1).sort_index())\n",
    "    return(dahb)"
   ]
  },
  {
   "cell_type": "code",
   "execution_count": 145,
   "metadata": {},
   "outputs": [],
   "source": [
    "df_loginfo = Read_History(file = \"Training Set/PPD_LogInfo_3_1_Training_Set.csv\",\n",
    "                      icid = 'Idx', ictime = ['Listinginfo1', 'LogInfo3'])\n",
    "df_Userupdate_Info = Read_History(file = \"Training Set/PPD_Userupdate_Info_3_1_Training_Set.csv\",icid = 'Idx', ictime = ['ListingInfo1', 'UserupdateInfo2'],par_csv = {\"converters\": {\"UserupdateInfo1\": lambda x: x.lower()}})\n",
    "df_loginfo.to_hdf(\"PPD_df_loginfo.h5\", key = \"dah\", complib = \"zlib\", complevel = 1, mode = \"w\")\n",
    "df_Userupdate_Info.to_hdf(\"PPD_df_Userupdate_Info.h5\", key = \"dah\", complib = \"zlib\", complevel = 1, mode = \"w\")"
   ]
  },
  {
   "cell_type": "code",
   "execution_count": 146,
   "metadata": {},
   "outputs": [],
   "source": [
    "def Clean_history(dah, iccat, name):\n",
    "    grp1 = dah.reset_index()[[\"Id\", \"Time\"]].groupby(\"Id\")\n",
    "    grp2 = dah.groupby(level = [\"Id\", \"Time\"]).first().reset_index()[[\"Id\", \"Time\"]].groupby(\"Id\")\n",
    "    dahc1 = pd.concat([grp1.first(), grp1.count()], axis = 1, ignore_index = True).rename(columns = {0:\"FirstTime\", 1:\"Count\"})\n",
    "    dahc1 = dahc1.assign(DayFreq = grp2.count()[\"Time\"]/(1-dahc1[\"FirstTime\"])).loc[df.index]\n",
    "    dahc2 = dah.reset_index().groupby([\"Id\"]+iccat).count().unstack(iccat)[\"Time\"].loc[df.index]\n",
    "    dahc = pd.concat([dahc1, pd.DataFrame({\"Cats\": dahc2.notnull().sum(axis = 1)}), dahc2], axis = 1).fillna(0)\n",
    "    dahc.columns = [\"{}_{}\".format(name, x) for x in dahc.columns]\n",
    "    return(dahc)"
   ]
  },
  {
   "cell_type": "code",
   "execution_count": 147,
   "metadata": {},
   "outputs": [
    {
     "data": {
      "text/plain": [
       "(30000, 338)"
      ]
     },
     "execution_count": 147,
     "metadata": {},
     "output_type": "execute_result"
    }
   ],
   "source": [
    "df_loginfoc = Clean_history(df_loginfo, list(df_loginfo.columns), name = \"Log\")\n",
    "df_Userupdate_Infoc = Clean_history(df_Userupdate_Info, list(df_Userupdate_Info.columns), name = \"Userupdate\")\n",
    "da = pd.concat([df, df_loginfoc, df_Userupdate_Infoc], axis = 1)\n",
    "da.shape\n",
    "# 用重要特征的缺失率删除离群点后 (29690, 338)"
   ]
  },
  {
   "cell_type": "code",
   "execution_count": 24,
   "metadata": {},
   "outputs": [],
   "source": [
    "da.to_hdf(\"./output/PPD_da.h5\", key = \"dah\", complib = \"zlib\", complevel = 1, mode = \"w\")"
   ]
  },
  {
   "cell_type": "code",
   "execution_count": 25,
   "metadata": {},
   "outputs": [
    {
     "data": {
      "text/html": [
       "<div>\n",
       "<style scoped>\n",
       "    .dataframe tbody tr th:only-of-type {\n",
       "        vertical-align: middle;\n",
       "    }\n",
       "\n",
       "    .dataframe tbody tr th {\n",
       "        vertical-align: top;\n",
       "    }\n",
       "\n",
       "    .dataframe thead th {\n",
       "        text-align: right;\n",
       "    }\n",
       "</style>\n",
       "<table border=\"1\" class=\"dataframe\">\n",
       "  <thead>\n",
       "    <tr style=\"text-align: right;\">\n",
       "      <th></th>\n",
       "      <th>columns_type</th>\n",
       "    </tr>\n",
       "    <tr>\n",
       "      <th>index</th>\n",
       "      <th></th>\n",
       "    </tr>\n",
       "  </thead>\n",
       "  <tbody>\n",
       "    <tr>\n",
       "      <td>UserInfo_1</td>\n",
       "      <td>Categorical</td>\n",
       "    </tr>\n",
       "    <tr>\n",
       "      <td>UserInfo_2</td>\n",
       "      <td>Categorical</td>\n",
       "    </tr>\n",
       "    <tr>\n",
       "      <td>UserInfo_3</td>\n",
       "      <td>Categorical</td>\n",
       "    </tr>\n",
       "    <tr>\n",
       "      <td>UserInfo_4</td>\n",
       "      <td>Categorical</td>\n",
       "    </tr>\n",
       "    <tr>\n",
       "      <td>WeblogInfo_2</td>\n",
       "      <td>Categorical</td>\n",
       "    </tr>\n",
       "    <tr>\n",
       "      <td>...</td>\n",
       "      <td>...</td>\n",
       "    </tr>\n",
       "    <tr>\n",
       "      <td>Userupdate__turnover</td>\n",
       "      <td>Numerical</td>\n",
       "    </tr>\n",
       "    <tr>\n",
       "      <td>Userupdate__userid</td>\n",
       "      <td>Categorical</td>\n",
       "    </tr>\n",
       "    <tr>\n",
       "      <td>Userupdate__webshoptypeid</td>\n",
       "      <td>Categorical</td>\n",
       "    </tr>\n",
       "    <tr>\n",
       "      <td>Userupdate__webshopurl</td>\n",
       "      <td>Categorical</td>\n",
       "    </tr>\n",
       "    <tr>\n",
       "      <td>Userupdate__workyears</td>\n",
       "      <td>Categorical</td>\n",
       "    </tr>\n",
       "  </tbody>\n",
       "</table>\n",
       "<p>338 rows × 1 columns</p>\n",
       "</div>"
      ],
      "text/plain": [
       "                          columns_type\n",
       "index                                 \n",
       "UserInfo_1                 Categorical\n",
       "UserInfo_2                 Categorical\n",
       "UserInfo_3                 Categorical\n",
       "UserInfo_4                 Categorical\n",
       "WeblogInfo_2               Categorical\n",
       "...                                ...\n",
       "Userupdate__turnover         Numerical\n",
       "Userupdate__userid         Categorical\n",
       "Userupdate__webshoptypeid  Categorical\n",
       "Userupdate__webshopurl     Categorical\n",
       "Userupdate__workyears      Categorical\n",
       "\n",
       "[338 rows x 1 columns]"
      ]
     },
     "execution_count": 25,
     "metadata": {},
     "output_type": "execute_result"
    }
   ],
   "source": [
    "# 记录数据的字段类型 将原始数值类型中不同值个数小于10的标记为Categorical\n",
    "t=pd.concat(map(lambda i:pd.DataFrame(['Categorical' if i in da.select_dtypes('float64','int64') and len(da.loc[:,i].unique())<10 else da.loc[:,i].dtypes]),da.columns),ignore_index=True).replace(['object','O'],'Categorical').replace(['float64','int64'],'Numerical').rename(columns = {0:\"columns_type\"})\n",
    "t.index=da.columns\n",
    "t.reset_index().set_index('index')\n",
    "# t.columns_type.value_counts()\n",
    "t.to_csv('Training Set/PPD_daa.csv')\n",
    "del t"
   ]
  },
  {
   "cell_type": "code",
   "execution_count": 149,
   "metadata": {},
   "outputs": [],
   "source": [
    "def Col_group(ic, i = 0):\n",
    "    cols = pd.Series([x.split(\"_\")[i] for x in ic], index = ic)\n",
    "    return(cols)\n",
    "daa = pd.read_csv(\"Training Set/PPD_daa.csv\",index_col=0)\n",
    "daacity0 = pd.read_csv(\"Training Set/cnd_da_city_{}.csv\".format(0), encoding = \"GB18030\", index_col = 0)\n",
    "daacity1 = pd.read_csv(\"Training Set/cnd_da_city_{}.csv\".format(1), encoding = \"GB18030\",\n",
    "                       converters = {\"Prov\": Del_string, \"City\": Del_string, \"District\": Del_string})\n",
    "daacity1= (pd.concat(map(lambda i: daacity1.drop_duplicates([i]).set_index([i]).iloc[:,2:], [\"Prov\", \"City\", \"District\"]))\n",
    "            .reset_index().drop_duplicates([\"index\"]).set_index([\"index\"]))\n",
    "daacity = daacity1.join(daacity0, how = \"left\")\n",
    "ictype = {\"y\": [\"target\"],\n",
    "          \"date\": [\"ListingInfo\"], \n",
    "          \"catmap\": [\"UserInfo_{}\".format(i) for i in [2, 4, 8, 20, 7, 19]],\n",
    "          \"catmapd\": [daacity]*6,\n",
    "          }\n",
    "ictype[\"cols\"] = Col_group(da.drop(ictype[\"y\"], axis = 1).columns)\n",
    "tmp = ictype[\"cols\"].index[ictype[\"cols\"] == \"ThirdParty\"]\n",
    "ictype[\"serials\"] = pd.Series([\"_\".join([x.split(\"_\")[i] for i in [0,1,3]]) for x in tmp], index = tmp)\n",
    "ictype[\"catbin\"] = list((set(daa.index[daa.columns_type == \"Categorical\"])|set(da.columns[da.dtypes == \"O\"])) - set(ictype[\"catmap\"]))"
   ]
  },
  {
   "cell_type": "code",
   "execution_count": 27,
   "metadata": {},
   "outputs": [],
   "source": [
    "def Value_counts(das, nhead = 5):\n",
    "    tmp = pd.value_counts(das).reset_index().rename(columns={\"index\": das.name})\n",
    "    value = pd.DataFrame(['value {}'.format(x+1) for x in range(nhead)], index = np.arange(nhead)).join(tmp.iloc[:,0], how = \"left\").set_index(0).T\n",
    "    freq = pd.DataFrame(['freq {}'.format(x+1) for x in range(nhead)], index = np.arange(nhead)).join(tmp.iloc[:,1], how = \"left\").set_index(0).T\n",
    "    nnull = das.isnull().sum()\n",
    "    freqother = pd.DataFrame({das.name: [das.shape[0]-nnull-np.nansum(freq.values), nnull]}, index = [\"freq others\", \"freq NA\"]).T\n",
    "    op = pd.concat([value, freq, freqother], axis = 1)\n",
    "    return(op)\n",
    "def Summary(da):\n",
    "    op = pd.concat([pd.DataFrame({\"type\": daa.columns_type, \"n\": da.notnull().sum(axis = 0)}), da.describe().T.iloc[:,1:], \n",
    "                    pd.concat(map(lambda i: Value_counts(da.loc[:,i]), da.columns))], axis = 1).loc[da.columns]\n",
    "    op.index.name = \"Columns\"\n",
    "    return(op)"
   ]
  },
  {
   "cell_type": "code",
   "execution_count": 28,
   "metadata": {},
   "outputs": [],
   "source": [
    "Summary(da).to_csv(\"./output/PPD_summary_da.csv\")"
   ]
  },
  {
   "cell_type": "code",
   "execution_count": 29,
   "metadata": {},
   "outputs": [],
   "source": [
    "def Time_to_num(das):\n",
    "    tmp = pd.DatetimeIndex(das)\n",
    "    daop = pd.DataFrame(dict(zip(*[[\"{}_{}\".format(das.name, i) for i in [\"Day\", \"Year\", \"DayofYear\", \"DayofMonth\", \"DayofWeek\"]], \n",
    "                                   [(das - das.min()).astype('timedelta64[D]').astype(int), tmp.year, tmp.dayofyear, tmp.day, tmp.dayofweek]])),\n",
    "                        index = das.index)\n",
    "    return(daop)\n",
    "def Cat_map(das, damap, fillna = {\"CityRank\":6}):\n",
    "    daop = das.reset_index().set_index([das.name]).join(damap, how = \"left\").set_index(das.index.name).reindex(das.index).fillna(fillna)\n",
    "    daop.columns = [\"{}_{}\".format(das.name, i) for i in damap.columns]\n",
    "    return(daop)\n",
    "def Cat_to_bin(das, a = 0.01):\n",
    "    '''Transfrom a categorical column to onehotencoding'''\n",
    "#     dropna=False 使空值作为单独一个类别考虑\n",
    "    tmp = pd.value_counts(das,dropna=False)/das.shape[0]\n",
    "    cat = list(tmp.index[tmp <= a])\n",
    "    #     将阈值以下的小类别全部归为一类\n",
    "    if das.isna().any().sum()!=0:\n",
    "        dummy_na=True\n",
    "    else:\n",
    "        dummy_na=False\n",
    "    if len(cat)!=0:\n",
    "        dabin=pd.get_dummies(das.replace(cat,'others'),dummy_na=dummy_na).drop('others',axis=1)\n",
    "        dabin.columns=[\"{}_{}\".format(das.name, x) for x in list(set(tmp.index)-set(cat))]\n",
    "    else:\n",
    "        dabin=pd.get_dummies(das,dummy_na=dummy_na).iloc[:,1:]\n",
    "        dabin.columns=[\"{}_{}\".format(das.name, x) for x in list(tmp.index)[1:]]\n",
    "    dabin.index = das.index  \n",
    "    return(dabin)\n",
    "def Append_col_name(da, name):\n",
    "    return(da.rename(columns = dict(zip(*[list(da.columns), [\"{}_{}\".format(x, name) for x in da.columns]]))))\n",
    "def ColS_fillna(da, cols, f = \"median\", allNA = 0):\n",
    "    dafill = getattr(da[cols.index].groupby(cols, axis = 1), f)()[cols]\n",
    "    dafill.columns = cols.index\n",
    "    daop = da[cols.index].fillna(dafill).fillna(allNA)\n",
    "    return(daop)\n",
    "def ColS_summary(da, cols, f = [\"median\", \"std\"]):\n",
    "    grp = da[cols.index].groupby(cols, axis = 1)\n",
    "    daop = pd.concat(map(lambda x: Append_col_name(getattr(grp, x)(), x), f), axis = 1)\n",
    "    return(daop)\n",
    "def Clean_data(da, ictype, a = 0.01):\n",
    "    '''Transform and clean columns according to types'''\n",
    "    dac = da.copy().replace([-np.inf, np.inf], np.nan).replace(\"不详\", np.nan)\n",
    "    dac.loc[:, \"UserInfo_24\"] = dac.loc[:, \"UserInfo_24\"].fillna('D')\n",
    "    datime = pd.concat(map(lambda i: Time_to_num(dac.loc[:,i]), ictype[\"date\"]), axis = 1)\n",
    "    dacatmap = pd.concat(map(lambda i: Cat_map(dac.loc[:,ictype[\"catmap\"][i]], ictype[\"catmapd\"][i]), range(len(ictype[\"catmap\"]))), axis = 1)\n",
    "    dacatmap = pd.concat([dacatmap.iloc[:,15:20], ColS_summary(dacatmap, \n",
    "        pd.Series([\"_\".join([x.split(\"_\")[i] for i in [0,2]]) for x in dacatmap.columns[:15]], index = dacatmap.columns[:15]))], axis = 1)\n",
    "    dacatbin  = pd.concat(map(lambda i: Cat_to_bin(dac.loc[:,i], a = a), ictype[\"catbin\"]+[ictype[\"catmap\"][-1]]), axis = 1)\n",
    "    daS = ColS_summary(dac, ictype[\"serials\"], [\"median\", \"std\", \"min\", \"max\", \"first\",\"mean\"]).fillna(0)\n",
    "    cols = Col_group(daS.columns, i = -1)\n",
    "    daS.loc[:,cols == \"max\"] = daS.loc[:,cols == \"max\"] - daS.loc[:,cols == \"median\"].values\n",
    "    dacount = ColS_summary(dac, ictype[\"cols\"], [\"count\"])\n",
    "    dac = pd.concat([dac.drop(ictype[\"date\"] + ictype[\"catmap\"] + ictype[\"catbin\"] + list(ictype[\"serials\"].index), axis = 1), \n",
    "                     datime, dacatmap, dacatbin, daS, dacount], axis = 1)\n",
    "    tmp = pd.concat(map(lambda i: Value_counts(dac.loc[:,i]), dac.columns))\n",
    "    dac = dac.loc[:, (tmp[\"freq 1\"] + tmp[\"freq NA\"])/dac.shape[0] < 1 - a]\n",
    "    dac = dac.drop(dac.columns[np.any(np.abs(np.tril(np.corrcoef(dac.rank(pct = True).fillna(0.5).values, rowvar = 0), -1)) > 0.99, axis = 0)], axis = 1)\n",
    "    return(dac)"
   ]
  },
  {
   "cell_type": "code",
   "execution_count": 30,
   "metadata": {},
   "outputs": [
    {
     "data": {
      "text/plain": [
       "(29690, 488)"
      ]
     },
     "execution_count": 30,
     "metadata": {},
     "output_type": "execute_result"
    }
   ],
   "source": [
    "dac = Clean_data(da, ictype, a = 0.001)\n",
    "Summary(dac).to_csv(\"./output/PPD_summary_dac.csv\")\n",
    "dac.shape\n",
    "# 用重要特征的缺失率删除离群点后 (29690, 488)"
   ]
  },
  {
   "cell_type": "code",
   "execution_count": 31,
   "metadata": {},
   "outputs": [],
   "source": [
    "dac.to_hdf(\"./output/PPD_dac.h5\", key = \"dah\", complib = \"zlib\", complevel = 1, mode = \"w\")"
   ]
  },
  {
   "cell_type": "code",
   "execution_count": 157,
   "metadata": {},
   "outputs": [],
   "source": [
    "# def XGBoost(xt1, xt2, yt1, yt2, seed = 0, parmodel = {}):\n",
    "#     timestart = time.time()\n",
    "#     xyt1 = xgb.DMatrix(xt1, label = yt1, missing = np.nan)\n",
    "#     xyt2 = xgb.DMatrix(xt2, label = yt2, missing = np.nan)\n",
    "#     par = {'colsample_bylevel': 0.1, 'max_depth': 4, 'min_child_weight': 1,'eta': 0.1, \"seed\": 15, \"objective\": 'binary:logistic', 'eval_metric': 'logloss'}\n",
    "#     par.update(parmodel)\n",
    "#     par[\"max_depth\"] = int(par[\"max_depth\"])\n",
    "#     parval = [(xyt1,'train'), (xyt2,'val')]\n",
    "#     model = xgb.train(params = par, dtrain = xyt1, num_boost_round = 1000, evals = parval, \n",
    "#                       early_stopping_rounds = int(2*np.sqrt(xt1.shape[1]/par[\"eta\"])))\n",
    "#     score = roc_auc_score(yt2, model.predict(xgb.DMatrix(xt2, missing = np.nan)).flatten())\n",
    "#     print(\"score:{:.4f}\".format(score))\n",
    "#     print(\"Time: {:.2f} seconds\".format(time.time() - timestart))\n",
    "#     return(model)\n",
    "# str_var_list2, num_var_list2, all_var_list2=explore.get_dtypes(dac)\n",
    "# num_var_list2.remove('target')\n",
    "# dac2=dac[:]\n",
    "# dac2.loc[:,num_var_list2]=dac2.loc[:,num_var_list2].apply(lambda x:np.log1p(x))\n",
    "# seed_everything()\n",
    "# X=dac2.drop(['target'],axis=1)\n",
    "# y=dac2['target']\n",
    "# X_train, X_test, y_train, y_test = train_test_split(X, y, test_size=0.2)\n",
    "# model_xgb_7879 = XGBoost(X_train, X_test, y_train, y_test, parmodel = \n",
    "#                 {'colsample_bylevel': 0.07, 'eta': 0.05, 'max_depth': 3, 'lambda': 50, 'min_child_weight': 1.5, 'gamma': 0.2})\n",
    "# pickle.dump(model_xgb_7879, open(\"./output/model_xgb_7879.dat\", \"wb\"))\n",
    "\n",
    "# # score:0.7879\n",
    "# # Time: 32.05 seconds"
   ]
  },
  {
   "cell_type": "code",
   "execution_count": 108,
   "metadata": {},
   "outputs": [
    {
     "name": "stdout",
     "output_type": "stream",
     "text": [
      "     train-auc-mean  train-auc-std  test-auc-mean  test-auc-std\n",
      "0          0.501931       0.000770       0.500423      0.000963\n",
      "1          0.502759       0.001075       0.500133      0.001111\n",
      "2          0.506922       0.006656       0.501349      0.002290\n",
      "3          0.513273       0.015223       0.504701      0.008946\n",
      "4          0.526919       0.021972       0.518399      0.019223\n",
      "..              ...            ...            ...           ...\n",
      "995        0.879665       0.001105       0.771871      0.010378\n",
      "996        0.879722       0.001125       0.771850      0.010398\n",
      "997        0.879769       0.001114       0.771887      0.010436\n",
      "998        0.879811       0.001116       0.771889      0.010468\n",
      "999        0.879861       0.001116       0.771891      0.010414\n",
      "\n",
      "[1000 rows x 4 columns]\n",
      "Time: 319.88 seconds\n",
      "num_boost_round: 1000\n"
     ]
    }
   ],
   "source": [
    "def XGBoost_cv(xt,yt, seed = 15, parmodel = {}):\n",
    "    timestart = time.time()\n",
    "#     xyt1 = xgb.DMatrix(xt1, label = yt1, missing = np.nan)\n",
    "#     xyt2 = xgb.DMatrix(xt2, label = yt2, missing = np.nan)\n",
    "    par = {'colsample_bylevel': 0.1, 'max_depth': 4, 'min_child_weight': 1,'eta': 0.1, \"seed\": seed, \"objective\": 'binary:logistic', 'eval_metric': 'auc'}\n",
    "    par.update(parmodel)\n",
    "    par[\"max_depth\"] = int(par[\"max_depth\"])\n",
    "#     parval = [(xyt1,'train'), (xyt2,'val')]\n",
    "    dtrain=xgb.DMatrix(xt, label = yt, missing = np.nan)\n",
    "    cv_res = xgb.cv(params = par, dtrain =dtrain , num_boost_round = 1000,nfold=10,seed=15, metrics='auc')\n",
    "#     score = roc_auc_score(yt2, model.predict(xgb.DMatrix(xt2, missing = np.nan)).flatten())\n",
    "#     print(\"score:{:.4f}\".format(score))\n",
    "    print(cv_res)\n",
    "\n",
    "    #cv_res.shape[0]为最佳迭代次数\n",
    "    bst = xgb.train(params = par, dtrain =dtrain ,num_boost_round=cv_res.shape[0])\n",
    "    print(\"Time: {:.2f} seconds\".format(time.time() - timestart))\n",
    "    print('num_boost_round:',cv_res.shape[0])\n",
    "    return(bst)\n",
    "str_var_list2, num_var_list2, all_var_list2=explore.get_dtypes(dac)\n",
    "num_var_list2.remove('target')\n",
    "dac2=dac[:]\n",
    "dac2.loc[:,num_var_list2]=dac2.loc[:,num_var_list2].apply(lambda x:np.log1p(x))\n",
    "seed_everything()\n",
    "X=dac2.drop(['target'],axis=1)\n",
    "y=dac2['target']\n",
    "# X_train, X_test, y_train, y_test = train_test_split(X, y, test_size=0.2)\n",
    "model_xgb_7718 = XGBoost_cv(X, y,parmodel = \n",
    "                {'colsample_bylevel': 0.07, 'eta': 0.05, 'max_depth': 3, 'lambda': 50, 'min_child_weight': 1.5, 'gamma': 0.2})\n",
    "pickle.dump(model_xgb_7718, open(\"./output/model_xgb_7718.dat\", \"wb\"))\n",
    "\n"
   ]
  }
 ],
 "metadata": {
  "kernelspec": {
   "display_name": "Python 3",
   "language": "python",
   "name": "python3"
  },
  "language_info": {
   "codemirror_mode": {
    "name": "ipython",
    "version": 3
   },
   "file_extension": ".py",
   "mimetype": "text/x-python",
   "name": "python",
   "nbconvert_exporter": "python",
   "pygments_lexer": "ipython3",
   "version": "3.7.4"
  }
 },
 "nbformat": 4,
 "nbformat_minor": 2
}
